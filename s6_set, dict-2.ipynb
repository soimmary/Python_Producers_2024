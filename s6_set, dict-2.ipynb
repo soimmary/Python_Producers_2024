{
 "cells": [
  {
   "cell_type": "markdown",
   "metadata": {
    "id": "322e0404"
   },
   "source": [
    "# Семинар 6. Множества, словари"
   ]
  },
  {
   "cell_type": "markdown",
   "metadata": {
    "id": "dd3a52ae"
   },
   "source": [
    "<hr>\n",
    "\n",
    "### Вспомним основные операции с множествами\n",
    "\n",
    "![](https://www.learnbyexample.org/wp-content/uploads/python/Python-Set-Operatioons.png)\n",
    "\n",
    "<hr>"
   ]
  },
  {
   "cell_type": "markdown",
   "metadata": {
    "id": "T0r26AaYMttM"
   },
   "source": [
    "    a | b = union\n",
    "    a & b = intersection\n",
    "    a - b = difference\n",
    "    a ^ b = symmetric difference"
   ]
  },
  {
   "cell_type": "markdown",
   "metadata": {
    "id": "deae8da6"
   },
   "source": [
    "## Задача 1. Свадьба\n",
    "\n",
    "Вам поручили проанализировать список гостей на свадьбе. В качестве данных вам предоставили два множества: гости со стороны жениха (groom) и гости со стороны невесты (bride). При этом некоторые гости есть в списках и жениха, и невесты одновременно."
   ]
  },
  {
   "cell_type": "code",
   "execution_count": 1,
   "metadata": {
    "id": "89345ed0"
   },
   "outputs": [],
   "source": [
    "groom = {'Татьяна', 'Мария', 'Ирина', 'Юлия', 'Александр', 'Михаил', 'Максим',\n",
    "         'Лев', 'Артём', 'Марк', 'Иван', 'Дмитрий', 'Матвей', 'Даниил'}\n",
    "bride = {'Анастасия', 'Елена', 'Даниил', 'Ольга', 'Наталья', 'Екатерина',\n",
    "         'Анна', 'Татьяна', 'Мария', 'Ирина', 'Юлия', 'Марк', 'Иван'}"
   ]
  },
  {
   "cell_type": "markdown",
   "metadata": {
    "id": "f3182d4f"
   },
   "source": [
    "Какое количество гостей приглашено на свадьбу (помните, что некоторые гости есть в списках и жениха, и невесты одновременно)?"
   ]
  },
  {
   "cell_type": "code",
   "execution_count": 4,
   "metadata": {
    "id": "c4d30db0"
   },
   "outputs": [
    {
     "data": {
      "text/plain": [
       "20"
      ]
     },
     "execution_count": 4,
     "metadata": {},
     "output_type": "execute_result"
    }
   ],
   "source": [
    "# ваш код\n",
    "len(groom | bride)"
   ]
  },
  {
   "cell_type": "markdown",
   "metadata": {
    "id": "ed315ae1"
   },
   "source": [
    "Выведите имена общих гостей жениха и невесты, отсортированные по алфавиту:"
   ]
  },
  {
   "cell_type": "code",
   "execution_count": 2,
   "metadata": {
    "id": "35fda290"
   },
   "outputs": [
    {
     "data": {
      "text/plain": [
       "{'Даниил', 'Иван', 'Ирина', 'Мария', 'Марк', 'Татьяна', 'Юлия'}"
      ]
     },
     "execution_count": 2,
     "metadata": {},
     "output_type": "execute_result"
    }
   ],
   "source": [
    "# ваш код\n",
    "groom & bride"
   ]
  },
  {
   "cell_type": "markdown",
   "metadata": {
    "id": "7b0fbbec"
   },
   "source": [
    "Выведите имена тех гостей, которые не являются общими гостями жениха и невесты, отсортированные по алфавиту"
   ]
  },
  {
   "cell_type": "code",
   "execution_count": 5,
   "metadata": {
    "id": "e59dbbec"
   },
   "outputs": [
    {
     "data": {
      "text/plain": [
       "{'Александр',\n",
       " 'Анастасия',\n",
       " 'Анна',\n",
       " 'Артём',\n",
       " 'Дмитрий',\n",
       " 'Екатерина',\n",
       " 'Елена',\n",
       " 'Лев',\n",
       " 'Максим',\n",
       " 'Матвей',\n",
       " 'Михаил',\n",
       " 'Наталья',\n",
       " 'Ольга'}"
      ]
     },
     "execution_count": 5,
     "metadata": {},
     "output_type": "execute_result"
    }
   ],
   "source": [
    "# ваш код\n",
    "groom ^ bride"
   ]
  },
  {
   "cell_type": "markdown",
   "metadata": {
    "id": "23797e47"
   },
   "source": [
    "Выведите имена гостей невесты, но только тех, кто не являются при этом гостями жениха, отсортированные по алфавиту"
   ]
  },
  {
   "cell_type": "code",
   "execution_count": 6,
   "metadata": {
    "id": "4d44b023"
   },
   "outputs": [
    {
     "data": {
      "text/plain": [
       "{'Анастасия', 'Анна', 'Екатерина', 'Елена', 'Наталья', 'Ольга'}"
      ]
     },
     "execution_count": 6,
     "metadata": {},
     "output_type": "execute_result"
    }
   ],
   "source": [
    "# ваш код\n",
    "bride - groom"
   ]
  },
  {
   "cell_type": "markdown",
   "metadata": {
    "id": "7e9c8fe5"
   },
   "source": [
    "<hr>\n",
    "\n",
    "### Вспомним работу со словарями\n",
    "\n",
    "`py_dict = {'name': 'Bob', 'age': 25, 'job': 'Dev', 'city': 'New York', 'email': 'bob@web.com'}`\n",
    "\n",
    "![](https://www.learnbyexample.org/wp-content/uploads/python/Dictionary-Key-Value-Pairs-Illustration.png)\n",
    "\n",
    "<hr>"
   ]
  },
  {
   "cell_type": "markdown",
   "metadata": {},
   "source": [
    "### Как создать словарь из двух списков"
   ]
  },
  {
   "cell_type": "code",
   "execution_count": 10,
   "metadata": {},
   "outputs": [
    {
     "name": "stdout",
     "output_type": "stream",
     "text": [
      "{'TOM FORD lost cherry': 26600, 'CLARINS  natural lip perfector': 1900, 'KEVIN.MURPHY': 10459, 'DIOR Sauvage': 7700, 'Rhode lipstick': 3900}\n"
     ]
    }
   ],
   "source": [
    "products = [\n",
    "    'TOM FORD lost cherry', \n",
    "    'CLARINS  natural lip perfector', \n",
    "    'KEVIN.MURPHY', \n",
    "    'DIOR Sauvage', \n",
    "    'Rhode lipstick'\n",
    "]\n",
    "prices = [26600, 1900, 10459, 7700, 3900]\n",
    "\n",
    "\n",
    "wish_list = {}\n",
    "for prod, price in zip(products, prices):\n",
    "    wish_list[prod] = price\n",
    "    \n",
    "print(wish_list)"
   ]
  },
  {
   "cell_type": "markdown",
   "metadata": {},
   "source": [
    "### Как достать все ключи из словаря"
   ]
  },
  {
   "cell_type": "code",
   "execution_count": 18,
   "metadata": {},
   "outputs": [
    {
     "data": {
      "text/plain": [
       "dict_keys(['TOM FORD lost cherry', 'CLARINS  natural lip perfector', 'KEVIN.MURPHY', 'DIOR Sauvage', 'Rhode lipstick'])"
      ]
     },
     "execution_count": 18,
     "metadata": {},
     "output_type": "execute_result"
    }
   ],
   "source": [
    "wish_list.keys()"
   ]
  },
  {
   "cell_type": "code",
   "execution_count": 19,
   "metadata": {},
   "outputs": [
    {
     "data": {
      "text/plain": [
       "dict_keys"
      ]
     },
     "execution_count": 19,
     "metadata": {},
     "output_type": "execute_result"
    }
   ],
   "source": [
    "type(wish_list.keys())"
   ]
  },
  {
   "cell_type": "code",
   "execution_count": 25,
   "metadata": {},
   "outputs": [
    {
     "name": "stdout",
     "output_type": "stream",
     "text": [
      "TOM FORD lost cherry\n",
      "CLARINS  natural lip perfector\n",
      "KEVIN.MURPHY\n",
      "DIOR Sauvage\n",
      "Rhode lipstick\n"
     ]
    }
   ],
   "source": [
    "for i in wish_list.keys():\n",
    "    print(i)"
   ]
  },
  {
   "cell_type": "code",
   "execution_count": 16,
   "metadata": {},
   "outputs": [
    {
     "data": {
      "text/plain": [
       "['TOM FORD lost cherry',\n",
       " 'CLARINS  natural lip perfector',\n",
       " 'KEVIN.MURPHY',\n",
       " 'DIOR Sauvage',\n",
       " 'Rhode lipstick']"
      ]
     },
     "execution_count": 16,
     "metadata": {},
     "output_type": "execute_result"
    }
   ],
   "source": [
    "list(wish_list.keys())"
   ]
  },
  {
   "cell_type": "markdown",
   "metadata": {},
   "source": [
    "### Как достать все значения из словаря"
   ]
  },
  {
   "cell_type": "code",
   "execution_count": 20,
   "metadata": {},
   "outputs": [
    {
     "data": {
      "text/plain": [
       "dict_values([26600, 1900, 10459, 7700, 3900])"
      ]
     },
     "execution_count": 20,
     "metadata": {},
     "output_type": "execute_result"
    }
   ],
   "source": [
    "wish_list.values()"
   ]
  },
  {
   "cell_type": "code",
   "execution_count": 22,
   "metadata": {},
   "outputs": [
    {
     "data": {
      "text/plain": [
       "dict_values"
      ]
     },
     "execution_count": 22,
     "metadata": {},
     "output_type": "execute_result"
    }
   ],
   "source": [
    "type(wish_list.values())"
   ]
  },
  {
   "cell_type": "code",
   "execution_count": 26,
   "metadata": {},
   "outputs": [
    {
     "name": "stdout",
     "output_type": "stream",
     "text": [
      "26600\n",
      "1900\n",
      "10459\n",
      "7700\n",
      "3900\n"
     ]
    }
   ],
   "source": [
    "for i in wish_list.values():\n",
    "    print(i)"
   ]
  },
  {
   "cell_type": "code",
   "execution_count": 23,
   "metadata": {},
   "outputs": [
    {
     "data": {
      "text/plain": [
       "['TOM FORD lost cherry',\n",
       " 'CLARINS  natural lip perfector',\n",
       " 'KEVIN.MURPHY',\n",
       " 'DIOR Sauvage',\n",
       " 'Rhode lipstick']"
      ]
     },
     "execution_count": 23,
     "metadata": {},
     "output_type": "execute_result"
    }
   ],
   "source": [
    "list(wish_list.keys())"
   ]
  },
  {
   "cell_type": "markdown",
   "metadata": {},
   "source": [
    "### Как достать ключ и значение вместе"
   ]
  },
  {
   "cell_type": "code",
   "execution_count": 27,
   "metadata": {},
   "outputs": [
    {
     "data": {
      "text/plain": [
       "dict_items([('TOM FORD lost cherry', 26600), ('CLARINS  natural lip perfector', 1900), ('KEVIN.MURPHY', 10459), ('DIOR Sauvage', 7700), ('Rhode lipstick', 3900)])"
      ]
     },
     "execution_count": 27,
     "metadata": {},
     "output_type": "execute_result"
    }
   ],
   "source": [
    "wish_list.items()"
   ]
  },
  {
   "cell_type": "code",
   "execution_count": 28,
   "metadata": {},
   "outputs": [
    {
     "data": {
      "text/plain": [
       "dict_items"
      ]
     },
     "execution_count": 28,
     "metadata": {},
     "output_type": "execute_result"
    }
   ],
   "source": [
    "type(wish_list.items())"
   ]
  },
  {
   "cell_type": "code",
   "execution_count": 29,
   "metadata": {},
   "outputs": [
    {
     "data": {
      "text/plain": [
       "[('TOM FORD lost cherry', 26600),\n",
       " ('CLARINS  natural lip perfector', 1900),\n",
       " ('KEVIN.MURPHY', 10459),\n",
       " ('DIOR Sauvage', 7700),\n",
       " ('Rhode lipstick', 3900)]"
      ]
     },
     "execution_count": 29,
     "metadata": {},
     "output_type": "execute_result"
    }
   ],
   "source": [
    "list(wish_list.items())"
   ]
  },
  {
   "cell_type": "code",
   "execution_count": 38,
   "metadata": {},
   "outputs": [
    {
     "name": "stdout",
     "output_type": "stream",
     "text": [
      "Продукт: TOM FORD lost cherry Цена: 26600\n",
      "Продукт: CLARINS  natural lip perfector Цена: 1900\n",
      "Продукт: KEVIN.MURPHY Цена: 10459\n",
      "Продукт: DIOR Sauvage Цена: 7700\n",
      "Продукт: Rhode lipstick Цена: 3900\n"
     ]
    }
   ],
   "source": [
    "for product, price in wish_list.items():\n",
    "    print('Продукт:', product, 'Цена:', price)"
   ]
  },
  {
   "cell_type": "markdown",
   "metadata": {},
   "source": [
    "## Задача: найти самый дорогой продукт в словаре wish_list"
   ]
  },
  {
   "cell_type": "code",
   "execution_count": 39,
   "metadata": {},
   "outputs": [],
   "source": [
    "wish_list = {'TOM FORD lost cherry': 26600, \n",
    "             'CLARINS  natural lip perfector': 1900, \n",
    "             'KEVIN.MURPHY': 10459, \n",
    "             'DIOR Sauvage': 7700, \n",
    "             'Rhode lipstick': 3900}"
   ]
  },
  {
   "cell_type": "code",
   "execution_count": null,
   "metadata": {},
   "outputs": [],
   "source": []
  },
  {
   "cell_type": "markdown",
   "metadata": {
    "id": "d8ce9a40"
   },
   "source": [
    "## Задача 2. Числа в словаре\n",
    "\n",
    "Дан словарь с числовыми значениями. Необходимо их все перемножить и вывести на экран результат"
   ]
  },
  {
   "cell_type": "code",
   "execution_count": 9,
   "metadata": {
    "id": "b8aee37e"
   },
   "outputs": [
    {
     "name": "stdout",
     "output_type": "stream",
     "text": [
      "-165267900.00000003\n"
     ]
    }
   ],
   "source": [
    "my_dictionary = {'data1': '375', 'data2': '567.2', 'data3': '-37', 'data4': '21'}\n",
    "\n",
    "# ваш код\n",
    "i = 1\n",
    "for v in my_dictionary.values():\n",
    "    i *= float(v)\n",
    "print(i)"
   ]
  },
  {
   "cell_type": "markdown",
   "metadata": {
    "id": "c62a5951"
   },
   "source": [
    "## Задача 3. Частотный анализ стихотворения\n",
    "\n",
    "Создайте частотный словарь слов стихотворения Константина Симонова."
   ]
  },
  {
   "cell_type": "code",
   "execution_count": null,
   "metadata": {
    "id": "7d92724b"
   },
   "outputs": [],
   "source": [
    "poetry = '''Жди меня, и я вернусь.\n",
    "Только очень жди,\n",
    "Жди, когда наводят грусть\n",
    "Желтые дожди,\n",
    "Жди, когда снега метут,\n",
    "Жди, когда жара,\n",
    "Жди, когда других не ждут,\n",
    "Позабыв вчера.\n",
    "Жди, когда из дальних мест\n",
    "Писем не придет,\n",
    "Жди, когда уж надоест\n",
    "Всем, кто вместе ждет.\n",
    "Жди меня, и я вернусь,\n",
    "Не желай добра\n",
    "Всем, кто знает наизусть,\n",
    "Что забыть пора.\n",
    "Пусть поверят сын и мать\n",
    "В то, что нет меня,\n",
    "Пусть друзья устанут ждать,\n",
    "Сядут у огня,\n",
    "Выпьют горькое вино\n",
    "На помин души…\n",
    "Жди. И с ними заодно\n",
    "Выпить не спеши.\n",
    "Жди меня, и я вернусь,\n",
    "Всем смертям назло.\n",
    "Кто не ждал меня, тот пусть\n",
    "Скажет: — Повезло.\n",
    "Не понять, не ждавшим им,\n",
    "Как среди огня\n",
    "Ожиданием своим\n",
    "Ты спасла меня.\n",
    "Как я выжил, будем знать\n",
    "Только мы с тобой, —\n",
    "Просто ты умела ждать,\n",
    "Как никто другой.'''"
   ]
  },
  {
   "cell_type": "code",
   "execution_count": null,
   "metadata": {
    "id": "4a8b901a",
    "outputId": "91fd1d4f-b793-4ace-c14f-2b6905c6640a"
   },
   "outputs": [
    {
     "data": {
      "text/plain": [
       "'Жди меня, и я вернусь.\\nТолько очень жди,\\nЖди, когда наводят грусть\\nЖелтые дожди,\\nЖди, когда снега метут,\\nЖди, когда жара,\\nЖди, когда других не ждут,\\nПозабыв вчера.\\nЖди, когда из дальних мест\\nПисем не придет,\\nЖди, когда уж надоест\\nВсем, кто вместе ждет.\\nЖди меня, и я вернусь,\\nНе желай добра\\nВсем, кто знает наизусть,\\nЧто забыть пора.\\nПусть поверят сын и мать\\nВ то, что нет меня,\\nПусть друзья устанут ждать,\\nСядут у огня,\\nВыпьют горькое вино\\nНа помин души…\\nЖди. И с ними заодно\\nВыпить не спеши.\\nЖди меня, и я вернусь,\\nВсем смертям назло.\\nКто не ждал меня, тот пусть\\nСкажет: — Повезло.\\nНе понять, не ждавшим им,\\nКак среди огня\\nОжиданием своим\\nТы спасла меня.\\nКак я выжил, будем знать\\nТолько мы с тобой, —\\nПросто ты умела ждать,\\nКак никто другой.'"
      ]
     },
     "execution_count": 106,
     "metadata": {},
     "output_type": "execute_result"
    }
   ],
   "source": [
    "poetry"
   ]
  },
  {
   "cell_type": "code",
   "execution_count": null,
   "metadata": {
    "id": "ba1e5034"
   },
   "outputs": [],
   "source": [
    "punct = ',.:–…—' # создаем строку со всеми знаками препинания, которые хотим удалить из текста\n",
    "\n",
    "for p in punct:                    # проходимся циклом по знакам препинания\n",
    "    poetry = poetry.replace(p, '') # и каждый заменяем на пустоту в стихотворении\n",
    "\n",
    "poetry = poetry.replace('\\n', ' ') # в конце удаляем все переносы строк"
   ]
  },
  {
   "cell_type": "code",
   "execution_count": null,
   "metadata": {
    "id": "ac190d6e",
    "outputId": "149cc8b1-7a74-4017-dbfc-28c51d34ffc3"
   },
   "outputs": [
    {
     "data": {
      "text/plain": [
       "'Жди меня и я вернусь Только очень жди Жди когда наводят грусть Желтые дожди Жди когда снега метут Жди когда жара Жди когда других не ждут Позабыв вчера Жди когда из дальних мест Писем не придет Жди когда уж надоест Всем кто вместе ждет Жди меня и я вернусь Не желай добра Всем кто знает наизусть Что забыть пора Пусть поверят сын и мать В то что нет меня Пусть друзья устанут ждать Сядут у огня Выпьют горькое вино На помин души Жди И с ними заодно Выпить не спеши Жди меня и я вернусь Всем смертям назло Кто не ждал меня тот пусть Скажет  Повезло Не понять не ждавшим им Как среди огня Ожиданием своим Ты спасла меня Как я выжил будем знать Только мы с тобой  Просто ты умела ждать Как никто другой'"
      ]
     },
     "execution_count": 108,
     "metadata": {},
     "output_type": "execute_result"
    }
   ],
   "source": [
    "poetry # получаем сырую строку"
   ]
  },
  {
   "cell_type": "markdown",
   "metadata": {
    "id": "1041bf67"
   },
   "source": [
    "Приведите все слова в тексте к нижнему регистру:"
   ]
  },
  {
   "cell_type": "code",
   "execution_count": null,
   "metadata": {
    "id": "09c24e72"
   },
   "outputs": [],
   "source": [
    "# ваш код\n",
    "poetry = poetry.lower()"
   ]
  },
  {
   "cell_type": "code",
   "execution_count": null,
   "metadata": {
    "id": "5eafbf10",
    "outputId": "e3e41808-057b-4107-c1bc-2af306b806af"
   },
   "outputs": [
    {
     "data": {
      "text/plain": [
       "'жди меня и я вернусь только очень жди жди когда наводят грусть желтые дожди жди когда снега метут жди когда жара жди когда других не ждут позабыв вчера жди когда из дальних мест писем не придет жди когда уж надоест всем кто вместе ждет жди меня и я вернусь не желай добра всем кто знает наизусть что забыть пора пусть поверят сын и мать в то что нет меня пусть друзья устанут ждать сядут у огня выпьют горькое вино на помин души жди и с ними заодно выпить не спеши жди меня и я вернусь всем смертям назло кто не ждал меня тот пусть скажет  повезло не понять не ждавшим им как среди огня ожиданием своим ты спасла меня как я выжил будем знать только мы с тобой  просто ты умела ждать как никто другой'"
      ]
     },
     "execution_count": 110,
     "metadata": {},
     "output_type": "execute_result"
    }
   ],
   "source": [
    "poetry"
   ]
  },
  {
   "cell_type": "markdown",
   "metadata": {
    "id": "27f292c4"
   },
   "source": [
    "Создайте частотный словарь:"
   ]
  },
  {
   "cell_type": "code",
   "execution_count": null,
   "metadata": {
    "id": "ff609fc5",
    "outputId": "3051c03c-b7d8-44bc-bb75-5aacf40619fc",
    "scrolled": true
   },
   "outputs": [
    {
     "name": "stdout",
     "output_type": "stream",
     "text": [
      "['жди', 'меня', 'и', 'я', 'вернусь', 'только', 'очень', 'жди', 'жди', 'когда', 'наводят', 'грусть', 'желтые', 'дожди', 'жди', 'когда', 'снега', 'метут', 'жди', 'когда', 'жара', 'жди', 'когда', 'других', 'не', 'ждут', 'позабыв', 'вчера', 'жди', 'когда', 'из', 'дальних', 'мест', 'писем', 'не', 'придет', 'жди', 'когда', 'уж', 'надоест', 'всем', 'кто', 'вместе', 'ждет', 'жди', 'меня', 'и', 'я', 'вернусь', 'не', 'желай', 'добра', 'всем', 'кто', 'знает', 'наизусть', 'что', 'забыть', 'пора', 'пусть', 'поверят', 'сын', 'и', 'мать', 'в', 'то', 'что', 'нет', 'меня', 'пусть', 'друзья', 'устанут', 'ждать', 'сядут', 'у', 'огня', 'выпьют', 'горькое', 'вино', 'на', 'помин', 'души', 'жди', 'и', 'с', 'ними', 'заодно', 'выпить', 'не', 'спеши', 'жди', 'меня', 'и', 'я', 'вернусь', 'всем', 'смертям', 'назло', 'кто', 'не', 'ждал', 'меня', 'тот', 'пусть', 'скажет', 'повезло', 'не', 'понять', 'не', 'ждавшим', 'им', 'как', 'среди', 'огня', 'ожиданием', 'своим', 'ты', 'спасла', 'меня', 'как', 'я', 'выжил', 'будем', 'знать', 'только', 'мы', 'с', 'тобой', 'просто', 'ты', 'умела', 'ждать', 'как', 'никто', 'другой']\n"
     ]
    }
   ],
   "source": [
    "poetry_lst = poetry.split() # для начала создадим список\n",
    "print(poetry_lst)"
   ]
  },
  {
   "cell_type": "code",
   "execution_count": null,
   "metadata": {
    "id": "0882a842"
   },
   "outputs": [],
   "source": [
    "a = {}\n",
    "a['key'] = 1"
   ]
  },
  {
   "cell_type": "code",
   "execution_count": null,
   "metadata": {
    "id": "7a5ddb09",
    "outputId": "9ea046a5-7607-4943-eab0-912548f97c1e"
   },
   "outputs": [
    {
     "data": {
      "text/plain": [
       "{'key': 1}"
      ]
     },
     "execution_count": 114,
     "metadata": {},
     "output_type": "execute_result"
    }
   ],
   "source": [
    "a"
   ]
  },
  {
   "cell_type": "code",
   "execution_count": null,
   "metadata": {
    "id": "7e6df404",
    "outputId": "f66b5038-53d0-45ce-be8b-74d303f2a5a8"
   },
   "outputs": [
    {
     "data": {
      "text/plain": [
       "{'key': 2}"
      ]
     },
     "execution_count": 117,
     "metadata": {},
     "output_type": "execute_result"
    }
   ],
   "source": [
    "a['key'] += 1\n",
    "a"
   ]
  },
  {
   "cell_type": "code",
   "execution_count": null,
   "metadata": {
    "id": "d9eb8985"
   },
   "outputs": [],
   "source": [
    "poetry_dict = {}\n",
    "\n",
    "# ваш код\n",
    "\n",
    "for p in poetry_lst:\n",
    "    if p not in poetry_dict:\n",
    "        poetry_dict[p] = 1\n",
    "    else:\n",
    "        poetry_dict[p] += 1"
   ]
  },
  {
   "cell_type": "code",
   "execution_count": null,
   "metadata": {
    "id": "5ad54bd9",
    "outputId": "4d8737af-fa3c-4998-dc7c-6400b717ee40"
   },
   "outputs": [
    {
     "name": "stdout",
     "output_type": "stream",
     "text": [
      "{'жди': 11, 'меня': 6, 'и': 5, 'я': 4, 'вернусь': 3, 'только': 2, 'очень': 1, 'когда': 6, 'наводят': 1, 'грусть': 1, 'желтые': 1, 'дожди': 1, 'снега': 1, 'метут': 1, 'жара': 1, 'других': 1, 'не': 7, 'ждут': 1, 'позабыв': 1, 'вчера': 1, 'из': 1, 'дальних': 1, 'мест': 1, 'писем': 1, 'придет': 1, 'уж': 1, 'надоест': 1, 'всем': 3, 'кто': 3, 'вместе': 1, 'ждет': 1, 'желай': 1, 'добра': 1, 'знает': 1, 'наизусть': 1, 'что': 2, 'забыть': 1, 'пора': 1, 'пусть': 3, 'поверят': 1, 'сын': 1, 'мать': 1, 'в': 1, 'то': 1, 'нет': 1, 'друзья': 1, 'устанут': 1, 'ждать': 2, 'сядут': 1, 'у': 1, 'огня': 2, 'выпьют': 1, 'горькое': 1, 'вино': 1, 'на': 1, 'помин': 1, 'души': 1, 'с': 2, 'ними': 1, 'заодно': 1, 'выпить': 1, 'спеши': 1, 'смертям': 1, 'назло': 1, 'ждал': 1, 'тот': 1, 'скажет': 1, 'повезло': 1, 'понять': 1, 'ждавшим': 1, 'им': 1, 'как': 3, 'среди': 1, 'ожиданием': 1, 'своим': 1, 'ты': 2, 'спасла': 1, 'выжил': 1, 'будем': 1, 'знать': 1, 'мы': 1, 'тобой': 1, 'просто': 1, 'умела': 1, 'никто': 1, 'другой': 1}\n"
     ]
    }
   ],
   "source": [
    "print(poetry_dict)"
   ]
  },
  {
   "cell_type": "code",
   "execution_count": null,
   "metadata": {
    "id": "b3ff7f8d",
    "outputId": "c4ca17e4-089e-4827-dede-ed35e385d614",
    "scrolled": true
   },
   "outputs": [
    {
     "name": "stdout",
     "output_type": "stream",
     "text": [
      "будем 1\n",
      "в 1\n",
      "вернусь 3\n",
      "вино 1\n",
      "вместе 1\n",
      "всем 3\n",
      "вчера 1\n",
      "выжил 1\n",
      "выпить 1\n",
      "выпьют 1\n",
      "горькое 1\n",
      "грусть 1\n",
      "дальних 1\n",
      "добра 1\n",
      "дожди 1\n",
      "других 1\n",
      "другой 1\n",
      "друзья 1\n",
      "души 1\n",
      "жара 1\n",
      "ждавшим 1\n",
      "ждал 1\n",
      "ждать 2\n",
      "ждет 1\n",
      "жди 11\n",
      "ждут 1\n",
      "желай 1\n",
      "желтые 1\n",
      "забыть 1\n",
      "заодно 1\n",
      "знает 1\n",
      "знать 1\n",
      "и 5\n",
      "из 1\n",
      "им 1\n",
      "как 3\n",
      "когда 6\n",
      "кто 3\n",
      "мать 1\n",
      "меня 6\n",
      "мест 1\n",
      "метут 1\n",
      "мы 1\n",
      "на 1\n",
      "наводят 1\n",
      "надоест 1\n",
      "назло 1\n",
      "наизусть 1\n",
      "не 7\n",
      "нет 1\n",
      "никто 1\n",
      "ними 1\n",
      "огня 2\n",
      "ожиданием 1\n",
      "очень 1\n",
      "писем 1\n",
      "повезло 1\n",
      "поверят 1\n",
      "позабыв 1\n",
      "помин 1\n",
      "понять 1\n",
      "пора 1\n",
      "придет 1\n",
      "просто 1\n",
      "пусть 3\n",
      "с 2\n",
      "своим 1\n",
      "скажет 1\n",
      "смертям 1\n",
      "снега 1\n",
      "спасла 1\n",
      "спеши 1\n",
      "среди 1\n",
      "сын 1\n",
      "сядут 1\n",
      "то 1\n",
      "тобой 1\n",
      "только 2\n",
      "тот 1\n",
      "ты 2\n",
      "у 1\n",
      "уж 1\n",
      "умела 1\n",
      "устанут 1\n",
      "что 2\n",
      "я 4\n"
     ]
    }
   ],
   "source": [
    "for k, v in sorted(poetry_dict.items()):\n",
    "    print(k, v)"
   ]
  },
  {
   "cell_type": "code",
   "execution_count": null,
   "metadata": {
    "id": "015fae77"
   },
   "outputs": [],
   "source": [
    "new_lst = []\n",
    "for k, v in poetry_dict.items():\n",
    "    new_lst.append((v, k))"
   ]
  },
  {
   "cell_type": "code",
   "execution_count": null,
   "metadata": {
    "id": "4de8304d",
    "outputId": "57c75f3c-ed58-4d42-bb6a-52e5c4adc78e",
    "scrolled": true
   },
   "outputs": [
    {
     "data": {
      "text/plain": [
       "[(11, 'жди'),\n",
       " (6, 'меня'),\n",
       " (5, 'и'),\n",
       " (4, 'я'),\n",
       " (3, 'вернусь'),\n",
       " (2, 'только'),\n",
       " (1, 'очень'),\n",
       " (6, 'когда'),\n",
       " (1, 'наводят'),\n",
       " (1, 'грусть'),\n",
       " (1, 'желтые'),\n",
       " (1, 'дожди'),\n",
       " (1, 'снега'),\n",
       " (1, 'метут'),\n",
       " (1, 'жара'),\n",
       " (1, 'других'),\n",
       " (7, 'не'),\n",
       " (1, 'ждут'),\n",
       " (1, 'позабыв'),\n",
       " (1, 'вчера'),\n",
       " (1, 'из'),\n",
       " (1, 'дальних'),\n",
       " (1, 'мест'),\n",
       " (1, 'писем'),\n",
       " (1, 'придет'),\n",
       " (1, 'уж'),\n",
       " (1, 'надоест'),\n",
       " (3, 'всем'),\n",
       " (3, 'кто'),\n",
       " (1, 'вместе'),\n",
       " (1, 'ждет'),\n",
       " (1, 'желай'),\n",
       " (1, 'добра'),\n",
       " (1, 'знает'),\n",
       " (1, 'наизусть'),\n",
       " (2, 'что'),\n",
       " (1, 'забыть'),\n",
       " (1, 'пора'),\n",
       " (3, 'пусть'),\n",
       " (1, 'поверят'),\n",
       " (1, 'сын'),\n",
       " (1, 'мать'),\n",
       " (1, 'в'),\n",
       " (1, 'то'),\n",
       " (1, 'нет'),\n",
       " (1, 'друзья'),\n",
       " (1, 'устанут'),\n",
       " (2, 'ждать'),\n",
       " (1, 'сядут'),\n",
       " (1, 'у'),\n",
       " (2, 'огня'),\n",
       " (1, 'выпьют'),\n",
       " (1, 'горькое'),\n",
       " (1, 'вино'),\n",
       " (1, 'на'),\n",
       " (1, 'помин'),\n",
       " (1, 'души'),\n",
       " (2, 'с'),\n",
       " (1, 'ними'),\n",
       " (1, 'заодно'),\n",
       " (1, 'выпить'),\n",
       " (1, 'спеши'),\n",
       " (1, 'смертям'),\n",
       " (1, 'назло'),\n",
       " (1, 'ждал'),\n",
       " (1, 'тот'),\n",
       " (1, 'скажет'),\n",
       " (1, 'повезло'),\n",
       " (1, 'понять'),\n",
       " (1, 'ждавшим'),\n",
       " (1, 'им'),\n",
       " (3, 'как'),\n",
       " (1, 'среди'),\n",
       " (1, 'ожиданием'),\n",
       " (1, 'своим'),\n",
       " (2, 'ты'),\n",
       " (1, 'спасла'),\n",
       " (1, 'выжил'),\n",
       " (1, 'будем'),\n",
       " (1, 'знать'),\n",
       " (1, 'мы'),\n",
       " (1, 'тобой'),\n",
       " (1, 'просто'),\n",
       " (1, 'умела'),\n",
       " (1, 'никто'),\n",
       " (1, 'другой')]"
      ]
     },
     "execution_count": 133,
     "metadata": {},
     "output_type": "execute_result"
    }
   ],
   "source": [
    "new_lst"
   ]
  },
  {
   "cell_type": "code",
   "execution_count": null,
   "metadata": {
    "id": "86d3c37b",
    "outputId": "d136d1b5-bfb2-4835-8532-70da40354a07"
   },
   "outputs": [
    {
     "name": "stdout",
     "output_type": "stream",
     "text": [
      "[(11, 'жди'), (7, 'не'), (6, 'меня'), (6, 'когда'), (5, 'и'), (4, 'я'), (3, 'пусть'), (3, 'кто'), (3, 'как'), (3, 'всем'), (3, 'вернусь'), (2, 'что'), (2, 'ты'), (2, 'только'), (2, 'с'), (2, 'огня'), (2, 'ждать'), (1, 'устанут'), (1, 'умела'), (1, 'уж'), (1, 'у'), (1, 'тот'), (1, 'тобой'), (1, 'то'), (1, 'сядут'), (1, 'сын'), (1, 'среди'), (1, 'спеши'), (1, 'спасла'), (1, 'снега'), (1, 'смертям'), (1, 'скажет'), (1, 'своим'), (1, 'просто'), (1, 'придет'), (1, 'пора'), (1, 'понять'), (1, 'помин'), (1, 'позабыв'), (1, 'поверят'), (1, 'повезло'), (1, 'писем'), (1, 'очень'), (1, 'ожиданием'), (1, 'ними'), (1, 'никто'), (1, 'нет'), (1, 'наизусть'), (1, 'назло'), (1, 'надоест'), (1, 'наводят'), (1, 'на'), (1, 'мы'), (1, 'метут'), (1, 'мест'), (1, 'мать'), (1, 'им'), (1, 'из'), (1, 'знать'), (1, 'знает'), (1, 'заодно'), (1, 'забыть'), (1, 'желтые'), (1, 'желай'), (1, 'ждут'), (1, 'ждет'), (1, 'ждал'), (1, 'ждавшим'), (1, 'жара'), (1, 'души'), (1, 'друзья'), (1, 'другой'), (1, 'других'), (1, 'дожди'), (1, 'добра'), (1, 'дальних'), (1, 'грусть'), (1, 'горькое'), (1, 'выпьют'), (1, 'выпить'), (1, 'выжил'), (1, 'вчера'), (1, 'вместе'), (1, 'вино'), (1, 'в'), (1, 'будем')]\n"
     ]
    }
   ],
   "source": [
    "print(sorted(new_lst, reverse=True))"
   ]
  },
  {
   "cell_type": "markdown",
   "metadata": {
    "id": "27b81bd4"
   },
   "source": [
    "## A6 НЭ\n",
    "\n",
    "В переменных tea и coffee хранятся множества строк с именами респондентов, которые любят чай и кофе соответственно.\n",
    "\n",
    "Выберите все выражения (минимум два), которые помогут найти всех, кто любит оба напитка, и сохранить результат в переменную tea_and_coffee.\n",
    "\n",
    "* tea_and_coffee = coffee.intersection(tea)\n",
    "\n",
    "* tea_and_coffee = tea.symmetric_intersection(tea_and_coffee)\n",
    "\n",
    "* tea_and_coffee = tea & coffee\n",
    "\n",
    "* tea_and_coffee = (tea | coffee) - (tea ^ coffee)\n",
    "\n",
    "* tea_and_coffee = tea.intersection(coffee)"
   ]
  },
  {
   "cell_type": "code",
   "execution_count": null,
   "metadata": {
    "id": "6ab35265"
   },
   "outputs": [],
   "source": [
    "# проверка\n"
   ]
  },
  {
   "cell_type": "markdown",
   "metadata": {
    "id": "6f05823f"
   },
   "source": [
    "## A6 НЭ\n",
    "\n",
    "В переменных products и recipe хранятся множества строк с названиями продуктов, которые есть в ходильнике и используются в рецепте блюда соответственно.\n",
    "\n",
    "Выберите все выражения (минимум два), которые помогут определить, каких продуктов не хватает для приготовления блюда, и сохранить результат в переменную to_buy.\n",
    "\n",
    "\n",
    "* to_buy = products.difference(recipe)\n",
    "\n",
    "* to_buy = products.symmetric_difference(recipe)\n",
    "\n",
    "* to_buy = recipe.difference(products)\n",
    "\n",
    "* to_buy = recipe - products\n",
    "\n",
    "* to_buy = products ^ recipe"
   ]
  },
  {
   "cell_type": "code",
   "execution_count": null,
   "metadata": {
    "id": "d9c224a7"
   },
   "outputs": [],
   "source": [
    "# проверка\n"
   ]
  },
  {
   "cell_type": "markdown",
   "metadata": {
    "id": "c613bc62"
   },
   "source": [
    "## B5 НЭ\n",
    "\n",
    "Реализуйте программу, которая поможет Ефросинье выбрать IT-компанию для стажировки.\n",
    "\n",
    "* В переменную companies_top считывается список компаний, которые вошли в топ-10 работодателей. Этот код уже написан.\n",
    "* В переменную сompanies_python считывается список компаний, в которых работать надо будет с использованием языка Python. Этот код уже написан.\n",
    "* В переменную companies_money считывается список компаний, в которых стажировка оплачивается. Этот код уже написан.\n",
    "* Гарантируется, что названия компаний в каждом из трех списков уникальные и что в каждом списке есть как минимум одна компания.\n",
    "* Выведите через запятую и пробел в алфавитном порядке названия компаний с оплачиваемой стажировкой, которые при этом не входят в топ-10 работодателей, и в которых надо будет работать с использованием Python.\n",
    "\n",
    "**Пример** \\\n",
    "**ВВОД**\n",
    "\n",
    "ВК, Сбербанк \\\n",
    "ПИК, Тинькофф, Сбербанк \\\n",
    "Тинькофф, ПИК, ВК, Перекресток\n",
    "\n",
    "**ВЫВОД**\n",
    "\n",
    "ПИК, Тинькофф"
   ]
  },
  {
   "cell_type": "code",
   "execution_count": null,
   "metadata": {
    "id": "628f5460"
   },
   "outputs": [],
   "source": [
    "companies_top = input().split(', ')\n",
    "companies_python = input().split(', ')\n",
    "companies_money = input().split(', ')\n",
    "\n",
    "# ваш код ниже\n"
   ]
  },
  {
   "cell_type": "markdown",
   "metadata": {
    "id": "67c1f0f5"
   },
   "source": [
    "## A7 НЭ\n",
    "\n",
    "В словаре lang_group хранятся пары объектов, в которых ключи — названия языков, а значения — языковые группы.\n",
    "\n",
    "Программа ниже должна печатать True, если вторая буква названия языка и вторая буква названия его языковой группы совпадают, и False в ином случае.\n",
    "\n",
    "`lang_group = {\n",
    "    'Немецкий': 'Германская',\n",
    "    'Литовский': 'Балтийская',\n",
    "    'Сербский': 'Славянская'\n",
    "}`\n",
    "\n",
    "`for lang, group in lang_group.items():\n",
    "    print(__________)`\n",
    "    \n",
    "Выберите такой вариант из выпадающего списка , чтобы программа работала корректно.\n",
    "\n",
    "* `lang[2] == group[2]`\n",
    "* `lang[1] == lang[group][1]`\n",
    "* `lang == group`\n",
    "* `lang[1] == group[1]`\n",
    "* `lang[1] != group[1]`"
   ]
  },
  {
   "cell_type": "code",
   "execution_count": null,
   "metadata": {
    "id": "20a882ba",
    "outputId": "eb40447c-28fc-473f-b22b-ac2318b78f69"
   },
   "outputs": [
    {
     "name": "stdout",
     "output_type": "stream",
     "text": [
      "False\n",
      "True\n",
      "True\n"
     ]
    }
   ],
   "source": [
    "lang_group = {\n",
    "    'Немецкий': 'Германская',\n",
    "    'Литовский': 'Балтийская',\n",
    "    'Сербский': 'Славянская'\n",
    "}\n",
    "\n",
    "for lang, group in lang_group.items():\n",
    "    print(lang[1] != group[1])"
   ]
  },
  {
   "cell_type": "markdown",
   "metadata": {
    "id": "04c80b3b"
   },
   "source": [
    "## B6 НЭ\n",
    "\n",
    "Реализуйте программу, которая проверяет интернет-провайдеров с точки зрения выполнения договорных условий и находит надежных провайдеров.\n",
    "\n",
    "* Дан словарь internet, в котором ключами являются названия компаний, а значениями — списки с индикаторами скорости за последнюю неделю: \\\n",
    "2 — скорость превышала заявленную; \\\n",
    "1 — скорость соответствовала заявленной; \\\n",
    "0 — была ниже.\n",
    "* Гарантируется, что названия компаний не повторяются.\n",
    "* В переменную filter_days считывается минимально допустимое количество дней со скоростью выше заявленной. Этот код уже написан.\n",
    "* Программа проверяет, что в статистике компании нет дней с понижением скорости и что количество дней с повышенной скоростью не менее значения filter_days, и выводит названия таких компаний, каждое на новой строке.\n",
    "* Если таких компаний нет — программа ничего не выводит."
   ]
  },
  {
   "cell_type": "code",
   "execution_count": null,
   "metadata": {
    "id": "d92e3cfe"
   },
   "outputs": [],
   "source": [
    "internet = {'Мостелеком': [1, 2, 1, 1, 1, 2, 1],\n",
    "            'Соединение2023': [1, 1, 0, 1, 1, 1, 0],\n",
    "            'МТТС': [1, 1, 1, 1, 2, 1, 1],\n",
    "            'Трилайн': [2, 2, 1, 1, 1, 2, 2]}\n",
    "\n",
    "filter_days = int(input())\n",
    "\n",
    "# ваш код ниже"
   ]
  },
  {
   "cell_type": "markdown",
   "metadata": {
    "id": "c7c8e51a"
   },
   "source": [
    "## B6 НЭ\n",
    "\n",
    "Реализуйте программу, которая проверяет, насколько популярна языковая школа.\n",
    "* Дан словарь schools, в котором ключами являются названия школ, а значениями — списки с количеством заявок на обучение за последнюю неделю. Гарантируется, что названия школ не повторяются.\n",
    "* В переменную filter_cust считывается минимально допустимое среднее количество заявок за неделю, чтобы школа не вышла в \"минус\". Этот код уже написан.\n",
    "* Программа проверяет, что в статистике подачи заявок в школу среднее число заявок не ниже значения filter_cust, и выводит названия таких школ. Названия выводятся в том же порядке, в котором они хранятся в словаре. Каждое название выводится на новой строке.\n",
    "* Если таких школ нет — программа ничего не выводит."
   ]
  },
  {
   "cell_type": "code",
   "execution_count": null,
   "metadata": {
    "id": "25ad06e6"
   },
   "outputs": [],
   "source": [
    "schools = {'ЯзыкДляВсех': [45, 67, 30, 24, 82, 12, 91],\n",
    "           'Питонисты2023': [32, 14, 29, 100, 21, 70, 25],\n",
    "           'EngStart': [105, 48, 22, 74, 53, 90, 12],\n",
    "           'NewLang': [83, 200, 0, 44, 12, 54, 19]}\n",
    "\n",
    "filter_cust = int(input())\n",
    "\n",
    "# ваш код ниже"
   ]
  }
 ],
 "metadata": {
  "colab": {
   "provenance": []
  },
  "kernelspec": {
   "display_name": "Python 3",
   "language": "python",
   "name": "python3"
  },
  "language_info": {
   "codemirror_mode": {
    "name": "ipython",
    "version": 3
   },
   "file_extension": ".py",
   "mimetype": "text/x-python",
   "name": "python",
   "nbconvert_exporter": "python",
   "pygments_lexer": "ipython3",
   "version": "3.8.5"
  }
 },
 "nbformat": 4,
 "nbformat_minor": 5
}
